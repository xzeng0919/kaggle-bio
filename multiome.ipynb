{
 "cells": [
  {
   "cell_type": "code",
   "execution_count": 1,
   "id": "093ac62a-a01f-48d1-abb3-c8d7b79450b0",
   "metadata": {},
   "outputs": [],
   "source": [
    "import os\n",
    "import lightgbm as lgb\n",
    "\n",
    "import pandas as pd\n",
    "import matplotlib.pyplot as plt\n",
    "import pandas as pd\n",
    "import matplotlib.pyplot as plt\n",
    "import seaborn as sns\n",
    "import numpy as np\n",
    "from colorama import Fore, Back, Style\n",
    "from matplotlib.ticker import MaxNLocator\n",
    "from sklearn.base import BaseEstimator, TransformerMixin\n",
    "from sklearn.model_selection import KFold\n",
    "from sklearn.preprocessing import StandardScaler, scale\n",
    "from sklearn.decomposition import PCA,TruncatedSVD\n",
    "from sklearn.dummy import DummyRegressor\n",
    "from sklearn.pipeline import make_pipeline, Pipeline\n",
    "from sklearn.linear_model import Ridge\n",
    "from sklearn.linear_model import Lasso\n",
    "from sklearn.multioutput import MultiOutputRegressor\n",
    "from sklearn.compose import TransformedTargetRegressor\n",
    "from sklearn.metrics import mean_squared_error\n",
    "import os, gc, pickle"
   ]
  },
  {
   "cell_type": "code",
   "execution_count": 2,
   "id": "e8d9f0b1-c0fa-41ff-b18c-813e1bb91b7d",
   "metadata": {},
   "outputs": [],
   "source": [
    "DATA_DIR = \"/Users/xzeng/Desktop/kaggle/open-problems-multimodal\"\n",
    "\n",
    "FP_CELL_METADATA = os.path.join(DATA_DIR,\"metadata.csv\")\n",
    "\n",
    "FP_MULTIOME_TRAIN_INPUTS = os.path.join(DATA_DIR,\"train_multi_inputs.h5\")\n",
    "FP_MULTIOME_TRAIN_TARGETS = os.path.join(DATA_DIR,\"train_multi_targets.h5\")\n",
    "FP_MULTIOME_TEST_INPUTS = os.path.join(DATA_DIR,\"test_multi_inputs.h5\")\n",
    "\n",
    "FP_SUBMISSION = os.path.join(DATA_DIR,\"sample_submission.csv\")\n",
    "FP_EVALUATION_IDS = os.path.join(DATA_DIR,\"evaluation_ids.csv\")"
   ]
  },
  {
   "cell_type": "markdown",
   "id": "37353f9b-c2a3-4107-bddd-dc8c8511d453",
   "metadata": {},
   "source": [
    "## loading the common meta data table"
   ]
  },
  {
   "cell_type": "code",
   "execution_count": 3,
   "id": "5f718f95-1067-4c27-959f-8c75d407da84",
   "metadata": {},
   "outputs": [
    {
     "data": {
      "text/plain": [
       "(161877, 5)"
      ]
     },
     "execution_count": 3,
     "metadata": {},
     "output_type": "execute_result"
    }
   ],
   "source": [
    "df_cell = pd.read_csv(FP_CELL_METADATA)\n",
    "df_cell_multi = df_cell[df_cell.technology==\"multiome\"]\n",
    "df_cell_multi.shape"
   ]
  },
  {
   "cell_type": "code",
   "execution_count": 4,
   "id": "07b05fab-388e-4511-82c3-2c89d13d412a",
   "metadata": {},
   "outputs": [
    {
     "data": {
      "text/html": [
       "<div>\n",
       "<style scoped>\n",
       "    .dataframe tbody tr th:only-of-type {\n",
       "        vertical-align: middle;\n",
       "    }\n",
       "\n",
       "    .dataframe tbody tr th {\n",
       "        vertical-align: top;\n",
       "    }\n",
       "\n",
       "    .dataframe thead th {\n",
       "        text-align: right;\n",
       "    }\n",
       "</style>\n",
       "<table border=\"1\" class=\"dataframe\">\n",
       "  <thead>\n",
       "    <tr style=\"text-align: right;\">\n",
       "      <th></th>\n",
       "      <th>cell_id</th>\n",
       "      <th>day</th>\n",
       "      <th>donor</th>\n",
       "      <th>cell_type</th>\n",
       "      <th>technology</th>\n",
       "    </tr>\n",
       "  </thead>\n",
       "  <tbody>\n",
       "    <tr>\n",
       "      <th>119651</th>\n",
       "      <td>458c2ae2c9b1</td>\n",
       "      <td>2</td>\n",
       "      <td>27678</td>\n",
       "      <td>hidden</td>\n",
       "      <td>multiome</td>\n",
       "    </tr>\n",
       "    <tr>\n",
       "      <th>119652</th>\n",
       "      <td>01a0659b0710</td>\n",
       "      <td>2</td>\n",
       "      <td>27678</td>\n",
       "      <td>hidden</td>\n",
       "      <td>multiome</td>\n",
       "    </tr>\n",
       "    <tr>\n",
       "      <th>119653</th>\n",
       "      <td>028a8bc3f2ba</td>\n",
       "      <td>2</td>\n",
       "      <td>27678</td>\n",
       "      <td>hidden</td>\n",
       "      <td>multiome</td>\n",
       "    </tr>\n",
       "    <tr>\n",
       "      <th>119654</th>\n",
       "      <td>7ec0ca8bb863</td>\n",
       "      <td>2</td>\n",
       "      <td>27678</td>\n",
       "      <td>hidden</td>\n",
       "      <td>multiome</td>\n",
       "    </tr>\n",
       "    <tr>\n",
       "      <th>119655</th>\n",
       "      <td>caa0b0022cdc</td>\n",
       "      <td>2</td>\n",
       "      <td>27678</td>\n",
       "      <td>hidden</td>\n",
       "      <td>multiome</td>\n",
       "    </tr>\n",
       "  </tbody>\n",
       "</table>\n",
       "</div>"
      ],
      "text/plain": [
       "             cell_id  day  donor cell_type technology\n",
       "119651  458c2ae2c9b1    2  27678    hidden   multiome\n",
       "119652  01a0659b0710    2  27678    hidden   multiome\n",
       "119653  028a8bc3f2ba    2  27678    hidden   multiome\n",
       "119654  7ec0ca8bb863    2  27678    hidden   multiome\n",
       "119655  caa0b0022cdc    2  27678    hidden   multiome"
      ]
     },
     "execution_count": 4,
     "metadata": {},
     "output_type": "execute_result"
    }
   ],
   "source": [
    "df_cell_multi.head(5)"
   ]
  },
  {
   "cell_type": "code",
   "execution_count": 16,
   "id": "41ab284d-575b-45cf-8766-dcf466f0a8ce",
   "metadata": {},
   "outputs": [
    {
     "name": "stdout",
     "output_type": "stream",
     "text": [
      "(6000, 228942)\n",
      "(6000, 213532)\n",
      "(6000, 213532)\n"
     ]
    },
    {
     "data": {
      "image/png": "[encoded data removed]",
      "text/plain": [
       "<Figure size 432x288 with 1 Axes>"
      ]
     },
     "metadata": {
      "needs_background": "light"
     },
     "output_type": "display_data"
    },
    {
     "name": "stdout",
     "output_type": "stream",
     "text": [
      "(6000, 128)\n",
      "multi train x (6000, 128)\n",
      "multi train y (6000, 23418)\n"
     ]
    }
   ],
   "source": [
    "#%%time\n",
    "# Preprocessing\n",
    "\n",
    "class PreprocessMultiome(BaseEstimator, TransformerMixin):\n",
    "    columns_to_use = slice(10000, 14000)\n",
    "    \n",
    "    @staticmethod\n",
    "    def take_column_subset(X):\n",
    "        return X[:,PreprocessMultiome.columns_to_use]\n",
    "    \n",
    "    def transform(self, X):\n",
    "        print(X.shape)\n",
    "        X = X[:,~self.all_zero_columns]\n",
    "        print(X.shape)\n",
    "        X = PreprocessMultiome.take_column_subset(X) # use only a part of the columns\n",
    "        print(X.shape)\n",
    "        gc.collect()\n",
    "\n",
    "        X = self.pca.transform(X)\n",
    "        print(X.shape)\n",
    "        return X\n",
    "\n",
    "    def fit_transform(self, X):\n",
    "        print(X.shape)\n",
    "        self.all_zero_columns = (X == 0).all(axis=0)\n",
    "        X = X[:,~self.all_zero_columns]\n",
    "        print(X.shape)\n",
    "      #  X = PreprocessMultiome.take_column_subset(X) # use only a part of the columns\n",
    "        print(X.shape)\n",
    "        gc.collect()\n",
    "\n",
    "        self.pca  = TruncatedSVD(n_components=128, random_state=42)\n",
    "        X = self.pca.fit_transform(X)\n",
    "        plt.plot(self.pca.explained_variance_ratio_.cumsum())\n",
    "        plt.title(\"Cumulative explained variance ratio\")\n",
    "        plt.gca().xaxis.set_major_locator(MaxNLocator(integer=True))\n",
    "        plt.xlabel('PCA component')\n",
    "        plt.ylabel('Cumulative explained variance ratio')\n",
    "        plt.show()\n",
    "        print(X.shape)\n",
    "        return X\n",
    "\n",
    "preprocessor = PreprocessMultiome()\n",
    "\n",
    "multi_train_x = None\n",
    "start, stop = 0, 6000\n",
    "multi_train_x = preprocessor.fit_transform(pd.read_hdf(FP_MULTIOME_TRAIN_INPUTS, start=start, stop=stop).values)\n",
    "\n",
    "multi_train_y = pd.read_hdf(FP_MULTIOME_TRAIN_TARGETS, start=start, stop=stop)\n",
    "y_columns = multi_train_y.columns\n",
    "multi_train_y = multi_train_y.values\n",
    "print('multi train x',multi_train_x.shape)\n",
    "print('multi train y',multi_train_y.shape)"
   ]
  },
  {
   "cell_type": "code",
   "execution_count": 17,
   "id": "4e7e7bcd-8092-4002-8586-1d8c7c6b0c4d",
   "metadata": {},
   "outputs": [
    {
     "name": "stdout",
     "output_type": "stream",
     "text": [
      "Fold 0: mse = 2.03031, corr =  0.676\n",
      "Fold 1: mse = 2.02356, corr =  0.675\n",
      "Fold 2: mse = 2.02425, corr =  0.676\n",
      "Fold 3: mse = 2.02463, corr =  0.676\n",
      "Fold 4: mse = 2.02995, corr =  0.675\n",
      "\u001b[32m\u001b[1m(6000, 128) Average  mse = 2.02654; corr = 0.676\u001b[0m\n",
      "CPU times: user 38.3 s, sys: 6.51 s, total: 44.8 s\n",
      "Wall time: 10.9 s\n"
     ]
    }
   ],
   "source": [
    "%%time\n",
    "# Cross-validation\n",
    "\n",
    "kf = KFold(n_splits=5, shuffle=True, random_state=1)\n",
    "score_list = []\n",
    "for fold, (idx_tr, idx_va) in enumerate(kf.split(multi_train_x)):\n",
    "    model = None\n",
    "    gc.collect()\n",
    "    X_tr = multi_train_x[idx_tr] # creates a copy, https://numpy.org/doc/stable/user/basics.copies.html\n",
    "    y_tr = multi_train_y[idx_tr]\n",
    "    del idx_tr\n",
    "\n",
    "    model = Ridge(copy_X=False)\n",
    "    model.fit(X_tr, y_tr)\n",
    "    del X_tr, y_tr\n",
    "    gc.collect()\n",
    "\n",
    "    # We validate the model\n",
    "    X_va = multi_train_x[idx_va]\n",
    "    y_va = multi_train_y[idx_va]\n",
    "    del idx_va\n",
    "    y_va_pred = model.predict(X_va)\n",
    "    mse = mean_squared_error(y_va, y_va_pred)\n",
    "    corrscore = correlation_score(y_va, y_va_pred)\n",
    "    del X_va, y_va\n",
    "\n",
    "    print(f\"Fold {fold}: mse = {mse:.5f}, corr =  {corrscore:.3f}\")\n",
    "    score_list.append((mse, corrscore))\n",
    "\n",
    "# Show overall score\n",
    "result_df = pd.DataFrame(score_list, columns=['mse', 'corrscore'])\n",
    "print(f\"{Fore.GREEN}{Style.BRIGHT}{multi_train_x.shape} Average  mse = {result_df.mse.mean():.5f}; corr = {result_df.corrscore.mean():.3f}{Style.RESET_ALL}\")"
   ]
  },
  {
   "cell_type": "code",
   "execution_count": 10,
   "id": "71b9eb2f-cc55-473b-94e5-a16ce50d846a",
   "metadata": {},
   "outputs": [],
   "source": []
  },
  {
   "cell_type": "code",
   "execution_count": 19,
   "id": "86f4a819-6362-47ba-8ee6-ddf15764690d",
   "metadata": {},
   "outputs": [],
   "source": [
    "multi_train_x_pd = pd.read_hdf(FP_MULTIOME_TRAIN_INPUTS, start=start, stop=stop)"
   ]
  },
  {
   "cell_type": "code",
   "execution_count": 21,
   "id": "7775e0fe-eeb4-42a1-9eeb-b4f5ce83d4ce",
   "metadata": {},
   "outputs": [
    {
     "data": {
      "text/html": [
       "<div>\n",
       "<style scoped>\n",
       "    .dataframe tbody tr th:only-of-type {\n",
       "        vertical-align: middle;\n",
       "    }\n",
       "\n",
       "    .dataframe tbody tr th {\n",
       "        vertical-align: top;\n",
       "    }\n",
       "\n",
       "    .dataframe thead th {\n",
       "        text-align: right;\n",
       "    }\n",
       "</style>\n",
       "<table border=\"1\" class=\"dataframe\">\n",
       "  <thead>\n",
       "    <tr style=\"text-align: right;\">\n",
       "      <th>gene_id</th>\n",
       "      <th>GL000194.1:114519-115365</th>\n",
       "      <th>GL000194.1:55758-56597</th>\n",
       "      <th>GL000194.1:58217-58957</th>\n",
       "      <th>GL000194.1:59535-60431</th>\n",
       "      <th>GL000195.1:119766-120427</th>\n",
       "      <th>GL000195.1:120736-121603</th>\n",
       "      <th>GL000195.1:137437-138345</th>\n",
       "      <th>GL000195.1:15901-16653</th>\n",
       "      <th>GL000195.1:22357-23209</th>\n",
       "      <th>GL000195.1:23751-24619</th>\n",
       "      <th>...</th>\n",
       "      <th>chrY:7722278-7723128</th>\n",
       "      <th>chrY:7723971-7724880</th>\n",
       "      <th>chrY:7729854-7730772</th>\n",
       "      <th>chrY:7731785-7732664</th>\n",
       "      <th>chrY:7810142-7811040</th>\n",
       "      <th>chrY:7814107-7815018</th>\n",
       "      <th>chrY:7818751-7819626</th>\n",
       "      <th>chrY:7836768-7837671</th>\n",
       "      <th>chrY:7869454-7870371</th>\n",
       "      <th>chrY:7873814-7874709</th>\n",
       "    </tr>\n",
       "    <tr>\n",
       "      <th>cell_id</th>\n",
       "      <th></th>\n",
       "      <th></th>\n",
       "      <th></th>\n",
       "      <th></th>\n",
       "      <th></th>\n",
       "      <th></th>\n",
       "      <th></th>\n",
       "      <th></th>\n",
       "      <th></th>\n",
       "      <th></th>\n",
       "      <th></th>\n",
       "      <th></th>\n",
       "      <th></th>\n",
       "      <th></th>\n",
       "      <th></th>\n",
       "      <th></th>\n",
       "      <th></th>\n",
       "      <th></th>\n",
       "      <th></th>\n",
       "      <th></th>\n",
       "      <th></th>\n",
       "    </tr>\n",
       "  </thead>\n",
       "  <tbody>\n",
       "    <tr>\n",
       "      <th>56390cf1b95e</th>\n",
       "      <td>0.0</td>\n",
       "      <td>0.0</td>\n",
       "      <td>0.0</td>\n",
       "      <td>0.0</td>\n",
       "      <td>0.0</td>\n",
       "      <td>0.0</td>\n",
       "      <td>0.0</td>\n",
       "      <td>0.0</td>\n",
       "      <td>0.0</td>\n",
       "      <td>0.0</td>\n",
       "      <td>...</td>\n",
       "      <td>0.0</td>\n",
       "      <td>0.0</td>\n",
       "      <td>0.0</td>\n",
       "      <td>0.0</td>\n",
       "      <td>0.0</td>\n",
       "      <td>4.428336</td>\n",
       "      <td>0.0</td>\n",
       "      <td>0.0</td>\n",
       "      <td>0.0</td>\n",
       "      <td>0.0</td>\n",
       "    </tr>\n",
       "    <tr>\n",
       "      <th>fc0c60183c33</th>\n",
       "      <td>0.0</td>\n",
       "      <td>0.0</td>\n",
       "      <td>0.0</td>\n",
       "      <td>0.0</td>\n",
       "      <td>0.0</td>\n",
       "      <td>0.0</td>\n",
       "      <td>0.0</td>\n",
       "      <td>0.0</td>\n",
       "      <td>0.0</td>\n",
       "      <td>0.0</td>\n",
       "      <td>...</td>\n",
       "      <td>0.0</td>\n",
       "      <td>0.0</td>\n",
       "      <td>0.0</td>\n",
       "      <td>0.0</td>\n",
       "      <td>0.0</td>\n",
       "      <td>0.000000</td>\n",
       "      <td>0.0</td>\n",
       "      <td>0.0</td>\n",
       "      <td>0.0</td>\n",
       "      <td>0.0</td>\n",
       "    </tr>\n",
       "    <tr>\n",
       "      <th>9b4a87e22ad0</th>\n",
       "      <td>0.0</td>\n",
       "      <td>0.0</td>\n",
       "      <td>0.0</td>\n",
       "      <td>0.0</td>\n",
       "      <td>0.0</td>\n",
       "      <td>0.0</td>\n",
       "      <td>0.0</td>\n",
       "      <td>0.0</td>\n",
       "      <td>0.0</td>\n",
       "      <td>0.0</td>\n",
       "      <td>...</td>\n",
       "      <td>0.0</td>\n",
       "      <td>0.0</td>\n",
       "      <td>0.0</td>\n",
       "      <td>0.0</td>\n",
       "      <td>0.0</td>\n",
       "      <td>0.000000</td>\n",
       "      <td>0.0</td>\n",
       "      <td>0.0</td>\n",
       "      <td>0.0</td>\n",
       "      <td>0.0</td>\n",
       "    </tr>\n",
       "    <tr>\n",
       "      <th>81cccad8cd81</th>\n",
       "      <td>0.0</td>\n",
       "      <td>0.0</td>\n",
       "      <td>0.0</td>\n",
       "      <td>0.0</td>\n",
       "      <td>0.0</td>\n",
       "      <td>0.0</td>\n",
       "      <td>0.0</td>\n",
       "      <td>0.0</td>\n",
       "      <td>0.0</td>\n",
       "      <td>0.0</td>\n",
       "      <td>...</td>\n",
       "      <td>0.0</td>\n",
       "      <td>0.0</td>\n",
       "      <td>0.0</td>\n",
       "      <td>0.0</td>\n",
       "      <td>0.0</td>\n",
       "      <td>0.000000</td>\n",
       "      <td>0.0</td>\n",
       "      <td>0.0</td>\n",
       "      <td>0.0</td>\n",
       "      <td>0.0</td>\n",
       "    </tr>\n",
       "    <tr>\n",
       "      <th>15cb3d85c232</th>\n",
       "      <td>0.0</td>\n",
       "      <td>0.0</td>\n",
       "      <td>0.0</td>\n",
       "      <td>0.0</td>\n",
       "      <td>0.0</td>\n",
       "      <td>0.0</td>\n",
       "      <td>0.0</td>\n",
       "      <td>0.0</td>\n",
       "      <td>0.0</td>\n",
       "      <td>0.0</td>\n",
       "      <td>...</td>\n",
       "      <td>0.0</td>\n",
       "      <td>0.0</td>\n",
       "      <td>0.0</td>\n",
       "      <td>0.0</td>\n",
       "      <td>0.0</td>\n",
       "      <td>0.000000</td>\n",
       "      <td>0.0</td>\n",
       "      <td>0.0</td>\n",
       "      <td>0.0</td>\n",
       "      <td>0.0</td>\n",
       "    </tr>\n",
       "  </tbody>\n",
       "</table>\n",
       "<p>5 rows × 228942 columns</p>\n",
       "</div>"
      ],
      "text/plain": [
       "gene_id       GL000194.1:114519-115365  GL000194.1:55758-56597  \\\n",
       "cell_id                                                          \n",
       "56390cf1b95e                       0.0                     0.0   \n",
       "fc0c60183c33                       0.0                     0.0   \n",
       "9b4a87e22ad0                       0.0                     0.0   \n",
       "81cccad8cd81                       0.0                     0.0   \n",
       "15cb3d85c232                       0.0                     0.0   \n",
       "\n",
       "gene_id       GL000194.1:58217-58957  GL000194.1:59535-60431  \\\n",
       "cell_id                                                        \n",
       "56390cf1b95e                     0.0                     0.0   \n",
       "fc0c60183c33                     0.0                     0.0   \n",
       "9b4a87e22ad0                     0.0                     0.0   \n",
       "81cccad8cd81                     0.0                     0.0   \n",
       "15cb3d85c232                     0.0                     0.0   \n",
       "\n",
       "gene_id       GL000195.1:119766-120427  GL000195.1:120736-121603  \\\n",
       "cell_id                                                            \n",
       "56390cf1b95e                       0.0                       0.0   \n",
       "fc0c60183c33                       0.0                       0.0   \n",
       "9b4a87e22ad0                       0.0                       0.0   \n",
       "81cccad8cd81                       0.0                       0.0   \n",
       "15cb3d85c232                       0.0                       0.0   \n",
       "\n",
       "gene_id       GL000195.1:137437-138345  GL000195.1:15901-16653  \\\n",
       "cell_id                                                          \n",
       "56390cf1b95e                       0.0                     0.0   \n",
       "fc0c60183c33                       0.0                     0.0   \n",
       "9b4a87e22ad0                       0.0                     0.0   \n",
       "81cccad8cd81                       0.0                     0.0   \n",
       "15cb3d85c232                       0.0                     0.0   \n",
       "\n",
       "gene_id       GL000195.1:22357-23209  GL000195.1:23751-24619  ...  \\\n",
       "cell_id                                                       ...   \n",
       "56390cf1b95e                     0.0                     0.0  ...   \n",
       "fc0c60183c33                     0.0                     0.0  ...   \n",
       "9b4a87e22ad0                     0.0                     0.0  ...   \n",
       "81cccad8cd81                     0.0                     0.0  ...   \n",
       "15cb3d85c232                     0.0                     0.0  ...   \n",
       "\n",
       "gene_id       chrY:7722278-7723128  chrY:7723971-7724880  \\\n",
       "cell_id                                                    \n",
       "56390cf1b95e                   0.0                   0.0   \n",
       "fc0c60183c33                   0.0                   0.0   \n",
       "9b4a87e22ad0                   0.0                   0.0   \n",
       "81cccad8cd81                   0.0                   0.0   \n",
       "15cb3d85c232                   0.0                   0.0   \n",
       "\n",
       "gene_id       chrY:7729854-7730772  chrY:7731785-7732664  \\\n",
       "cell_id                                                    \n",
       "56390cf1b95e                   0.0                   0.0   \n",
       "fc0c60183c33                   0.0                   0.0   \n",
       "9b4a87e22ad0                   0.0                   0.0   \n",
       "81cccad8cd81                   0.0                   0.0   \n",
       "15cb3d85c232                   0.0                   0.0   \n",
       "\n",
       "gene_id       chrY:7810142-7811040  chrY:7814107-7815018  \\\n",
       "cell_id                                                    \n",
       "56390cf1b95e                   0.0              4.428336   \n",
       "fc0c60183c33                   0.0              0.000000   \n",
       "9b4a87e22ad0                   0.0              0.000000   \n",
       "81cccad8cd81                   0.0              0.000000   \n",
       "15cb3d85c232                   0.0              0.000000   \n",
       "\n",
       "gene_id       chrY:7818751-7819626  chrY:7836768-7837671  \\\n",
       "cell_id                                                    \n",
       "56390cf1b95e                   0.0                   0.0   \n",
       "fc0c60183c33                   0.0                   0.0   \n",
       "9b4a87e22ad0                   0.0                   0.0   \n",
       "81cccad8cd81                   0.0                   0.0   \n",
       "15cb3d85c232                   0.0                   0.0   \n",
       "\n",
       "gene_id       chrY:7869454-7870371  chrY:7873814-7874709  \n",
       "cell_id                                                   \n",
       "56390cf1b95e                   0.0                   0.0  \n",
       "fc0c60183c33                   0.0                   0.0  \n",
       "9b4a87e22ad0                   0.0                   0.0  \n",
       "81cccad8cd81                   0.0                   0.0  \n",
       "15cb3d85c232                   0.0                   0.0  \n",
       "\n",
       "[5 rows x 228942 columns]"
      ]
     },
     "execution_count": 21,
     "metadata": {},
     "output_type": "execute_result"
    }
   ],
   "source": [
    "multi_train_x_pd.head(5)"
   ]
  },
  {
   "cell_type": "code",
   "execution_count": 59,
   "id": "44508c76-6993-46f9-8037-d485864b345e",
   "metadata": {},
   "outputs": [],
   "source": [
    "files = open('../results/dna2vec_sequence_embed.pkl', 'rb')\n",
    "regions_vec = pickle.load(files)"
   ]
  },
  {
   "cell_type": "code",
   "execution_count": 60,
   "id": "b6c103c4-b417-4595-a932-697dbcd6945c",
   "metadata": {},
   "outputs": [],
   "source": [
    "multi_train_x_pd = multi_train_x_pd[list(regions_vec.keys())]"
   ]
  },
  {
   "cell_type": "code",
   "execution_count": 61,
   "id": "750d0f50-08a5-443e-a017-52a35d497f3f",
   "metadata": {},
   "outputs": [],
   "source": [
    "peak_names = multi_train_x_pd.columns.tolist()\n",
    "\n",
    "for x in range(len(peak_names)):\n",
    "    if x == 0 :\n",
    "        vec_array = regions_vec[peak_names[x]]\n",
    "    else:\n",
    "        vec_array = np.hstack((vec_array, regions_vec[peak_names[x]]))"
   ]
  },
  {
   "cell_type": "code",
   "execution_count": 62,
   "id": "737a02bb-5598-4ead-8d3a-02ea0c9513b8",
   "metadata": {},
   "outputs": [
    {
     "data": {
      "text/plain": [
       "(915768,)"
      ]
     },
     "execution_count": 62,
     "metadata": {},
     "output_type": "execute_result"
    }
   ],
   "source": [
    "vec_array.shape"
   ]
  },
  {
   "cell_type": "code",
   "execution_count": 75,
   "id": "246438bd-b045-4abf-a7ac-e175379e872f",
   "metadata": {},
   "outputs": [
    {
     "name": "stdout",
     "output_type": "stream",
     "text": [
      "(6000, 228942)\n"
     ]
    },
    {
     "data": {
      "text/plain": [
       "(6000, 915768)"
      ]
     },
     "execution_count": 75,
     "metadata": {},
     "output_type": "execute_result"
    }
   ],
   "source": [
    "multi_train_x_array = multi_train_x_pd.values\n",
    "print(multi_train_x_array.shape)\n",
    "multi_train_x_array = multi_train_x_array.repeat(4,axis=1)\n",
    "multi_train_x_array.shape"
   ]
  },
  {
   "cell_type": "code",
   "execution_count": 77,
   "id": "3773d06c-76a8-485d-978c-eb7a38b1ec7e",
   "metadata": {},
   "outputs": [],
   "source": [
    "multi_train_x_array = multi_train_x_array * vec_array.T"
   ]
  },
  {
   "cell_type": "code",
   "execution_count": 79,
   "id": "36f0f44e-e4a9-4446-a5bd-60390e708a32",
   "metadata": {},
   "outputs": [
    {
     "name": "stdout",
     "output_type": "stream",
     "text": [
      "(6000, 915768)\n",
      "(6000, 852632)\n",
      "(6000, 852632)\n"
     ]
    },
    {
     "data": {
      "image/png": "[encoded data removed]",
      "text/plain": [
       "<Figure size 432x288 with 1 Axes>"
      ]
     },
     "metadata": {
      "needs_background": "light"
     },
     "output_type": "display_data"
    },
    {
     "name": "stdout",
     "output_type": "stream",
     "text": [
      "(6000, 128)\n"
     ]
    }
   ],
   "source": [
    "multi_train_x_dm = preprocessor.fit_transform(multi_train_x_array)"
   ]
  },
  {
   "cell_type": "code",
   "execution_count": 80,
   "id": "5fa4e6ab-e44c-45d9-a0dc-f8cf09d12f25",
   "metadata": {},
   "outputs": [
    {
     "name": "stdout",
     "output_type": "stream",
     "text": [
      "Fold 0: mse = 2.03623, corr =  0.674\n",
      "Fold 1: mse = 2.03376, corr =  0.674\n",
      "Fold 2: mse = 2.03728, corr =  0.674\n",
      "Fold 3: mse = 2.03591, corr =  0.674\n",
      "Fold 4: mse = 2.03679, corr =  0.673\n",
      "\u001b[32m\u001b[1m(6000, 128) Average  mse = 2.03599; corr = 0.674\u001b[0m\n",
      "CPU times: user 43.5 s, sys: 6.69 s, total: 50.2 s\n",
      "Wall time: 13.8 s\n"
     ]
    }
   ],
   "source": [
    "%%time\n",
    "# Cross-validation\n",
    "\n",
    "kf = KFold(n_splits=5, shuffle=True, random_state=1)\n",
    "score_list = []\n",
    "for fold, (idx_tr, idx_va) in enumerate(kf.split(multi_train_x_dm)):\n",
    "    model = None\n",
    "    gc.collect()\n",
    "    X_tr = multi_train_x_dm[idx_tr] # creates a copy, https://numpy.org/doc/stable/user/basics.copies.html\n",
    "    y_tr = multi_train_y[idx_tr]\n",
    "    del idx_tr\n",
    "\n",
    "    model = Ridge(copy_X=False)\n",
    "    model.fit(X_tr, y_tr)\n",
    "    del X_tr, y_tr\n",
    "    gc.collect()\n",
    "\n",
    "    # We validate the model\n",
    "    X_va = multi_train_x_dm[idx_va]\n",
    "    y_va = multi_train_y[idx_va]\n",
    "    del idx_va\n",
    "    y_va_pred = model.predict(X_va)\n",
    "    mse = mean_squared_error(y_va, y_va_pred)\n",
    "    corrscore = correlation_score(y_va, y_va_pred)\n",
    "    del X_va, y_va\n",
    "\n",
    "    print(f\"Fold {fold}: mse = {mse:.5f}, corr =  {corrscore:.3f}\")\n",
    "    score_list.append((mse, corrscore))\n",
    "\n",
    "# Show overall score\n",
    "result_df = pd.DataFrame(score_list, columns=['mse', 'corrscore'])\n",
    "print(f\"{Fore.GREEN}{Style.BRIGHT}{multi_train_x_dm.shape} Average  mse = {result_df.mse.mean():.5f}; corr = {result_df.corrscore.mean():.3f}{Style.RESET_ALL}\")"
   ]
  },
  {
   "cell_type": "code",
   "execution_count": 32,
   "id": "bb0da1d2-ce31-4f70-81ce-bc43aa06d7c9",
   "metadata": {},
   "outputs": [],
   "source": []
  },
  {
   "cell_type": "code",
   "execution_count": null,
   "id": "40370cba-69d6-42c6-a7d0-8f8f97dd0d7e",
   "metadata": {},
   "outputs": [],
   "source": []
  },
  {
   "cell_type": "code",
   "execution_count": null,
   "id": "7cda21e0-25ec-4c63-aa4b-6a593fd250ae",
   "metadata": {},
   "outputs": [],
   "source": []
  },
  {
   "cell_type": "code",
   "execution_count": null,
   "id": "5b364086-cfb5-4d86-812c-b0635ddd07a8",
   "metadata": {},
   "outputs": [],
   "source": []
  },
  {
   "cell_type": "code",
   "execution_count": null,
   "id": "7f7f49a4-06d0-4192-bed9-4de870c03891",
   "metadata": {},
   "outputs": [],
   "source": []
  },
  {
   "cell_type": "code",
   "execution_count": null,
   "id": "2d9156dd-c456-4f82-b7c6-72bcfec9fcf2",
   "metadata": {},
   "outputs": [],
   "source": []
  },
  {
   "cell_type": "code",
   "execution_count": null,
   "id": "d22773ed-b64d-4b41-a2a0-39563ffcd0be",
   "metadata": {},
   "outputs": [],
   "source": []
  }
 ],
 "metadata": {
  "kernelspec": {
   "display_name": "kaggle-bio",
   "language": "python",
   "name": "kaggle-bio"
  },
  "language_info": {
   "codemirror_mode": {
    "name": "ipython",
    "version": 3
   },
   "file_extension": ".py",
   "mimetype": "text/x-python",
   "name": "python",
   "nbconvert_exporter": "python",
   "pygments_lexer": "ipython3",
   "version": "3.7.13"
  }
 },
 "nbformat": 4,
 "nbformat_minor": 5
}
