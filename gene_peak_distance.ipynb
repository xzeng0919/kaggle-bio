{
 "cells": [
  {
   "cell_type": "code",
   "execution_count": 1,
   "id": "ef86cc81-e29f-4b0c-a661-c424e6f7990f",
   "metadata": {},
   "outputs": [],
   "source": [
    "import numpy as np\n",
    "import pandas as pd\n",
    "from itertools import product\n",
    "import os"
   ]
  },
  {
   "cell_type": "markdown",
   "id": "9d552530-4452-4cd5-8def-c492c55b574e",
   "metadata": {},
   "source": [
    "### Peak information from ATAC-seq data"
   ]
  },
  {
   "cell_type": "code",
   "execution_count": 27,
   "id": "b7ad1327-4d12-49bd-94fb-56532b16aa3a",
   "metadata": {},
   "outputs": [
    {
     "data": {
      "text/html": [
       "<div>\n",
       "<style scoped>\n",
       "    .dataframe tbody tr th:only-of-type {\n",
       "        vertical-align: middle;\n",
       "    }\n",
       "\n",
       "    .dataframe tbody tr th {\n",
       "        vertical-align: top;\n",
       "    }\n",
       "\n",
       "    .dataframe thead th {\n",
       "        text-align: right;\n",
       "    }\n",
       "</style>\n",
       "<table border=\"1\" class=\"dataframe\">\n",
       "  <thead>\n",
       "    <tr style=\"text-align: right;\">\n",
       "      <th></th>\n",
       "      <th>chr</th>\n",
       "      <th>peak_name</th>\n",
       "      <th>center</th>\n",
       "      <th>index</th>\n",
       "    </tr>\n",
       "  </thead>\n",
       "  <tbody>\n",
       "    <tr>\n",
       "      <th>0</th>\n",
       "      <td>GL000194.1</td>\n",
       "      <td>GL000194.1:114519-115365</td>\n",
       "      <td>114942</td>\n",
       "      <td>0</td>\n",
       "    </tr>\n",
       "    <tr>\n",
       "      <th>1</th>\n",
       "      <td>GL000194.1</td>\n",
       "      <td>GL000194.1:55758-56597</td>\n",
       "      <td>56178</td>\n",
       "      <td>1</td>\n",
       "    </tr>\n",
       "    <tr>\n",
       "      <th>2</th>\n",
       "      <td>GL000194.1</td>\n",
       "      <td>GL000194.1:58217-58957</td>\n",
       "      <td>58587</td>\n",
       "      <td>2</td>\n",
       "    </tr>\n",
       "    <tr>\n",
       "      <th>3</th>\n",
       "      <td>GL000194.1</td>\n",
       "      <td>GL000194.1:59535-60431</td>\n",
       "      <td>59983</td>\n",
       "      <td>3</td>\n",
       "    </tr>\n",
       "    <tr>\n",
       "      <th>4</th>\n",
       "      <td>GL000195.1</td>\n",
       "      <td>GL000195.1:119766-120427</td>\n",
       "      <td>120096</td>\n",
       "      <td>4</td>\n",
       "    </tr>\n",
       "  </tbody>\n",
       "</table>\n",
       "</div>"
      ],
      "text/plain": [
       "          chr                 peak_name  center  index\n",
       "0  GL000194.1  GL000194.1:114519-115365  114942      0\n",
       "1  GL000194.1    GL000194.1:55758-56597   56178      1\n",
       "2  GL000194.1    GL000194.1:58217-58957   58587      2\n",
       "3  GL000194.1    GL000194.1:59535-60431   59983      3\n",
       "4  GL000195.1  GL000195.1:119766-120427  120096      4"
      ]
     },
     "execution_count": 27,
     "metadata": {},
     "output_type": "execute_result"
    }
   ],
   "source": [
    "peak_region = pd.read_csv('../results/peak_regions.bed', sep='\\t', header=None)\n",
    "peak_region['center'] = round((peak_region[2] + peak_region[3])/2).astype('int')\n",
    "peak_region['chr'] = peak_region[0].str.split(r':|-',expand=True)[0]\n",
    "peak_region = peak_region[['chr', 0, 'center']]\n",
    "peak_region.columns = ['chr', 'peak_name', 'center']\n",
    "peak_region['index'] =  [x for x in range(peak_region.shape[0])]\n",
    "peak_region.head(5)"
   ]
  },
  {
   "cell_type": "code",
   "execution_count": 34,
   "id": "bb4ef1d6-a85e-4206-b4de-9649d0debd2b",
   "metadata": {},
   "outputs": [],
   "source": [
    "peak_region.to_csv('../results/peak_regions_center.txt', index=False, sep = '\\t')"
   ]
  },
  {
   "cell_type": "markdown",
   "id": "dc6e35a9-b5fc-4618-bbba-f6260ddeaa75",
   "metadata": {},
   "source": [
    "### Gene information from RNA-seq data"
   ]
  },
  {
   "cell_type": "code",
   "execution_count": 4,
   "id": "65f4e4fa-ad56-4280-bc8a-e33861289873",
   "metadata": {},
   "outputs": [
    {
     "name": "stdout",
     "output_type": "stream",
     "text": [
      "23418\n"
     ]
    }
   ],
   "source": [
    "DATA_DIR = \"/Users/xzeng/Desktop/kaggle/open-problems-multimodal\"\n",
    "FP_MULTIOME_TRAIN_TARGETS = os.path.join(DATA_DIR,\"train_multi_targets.h5\")\n",
    "\n",
    "start, stop = 0, 10\n",
    "\n",
    "multi_train_y = pd.read_hdf(FP_MULTIOME_TRAIN_TARGETS, start=start, stop=stop)\n",
    "# get gene name from multiome data\n",
    "y_columns = multi_train_y.columns.to_list()\n",
    "print(len(y_columns))"
   ]
  },
  {
   "cell_type": "markdown",
   "id": "6e0b04c6-15f8-4f0d-99b3-d079778b5ca1",
   "metadata": {},
   "source": [
    "### Gene annotation informtion from GTF file"
   ]
  },
  {
   "cell_type": "code",
   "execution_count": 5,
   "id": "5acff8c4-0be0-4f28-8581-a33f29d1075f",
   "metadata": {},
   "outputs": [
    {
     "data": {
      "text/html": [
       "<div>\n",
       "<style scoped>\n",
       "    .dataframe tbody tr th:only-of-type {\n",
       "        vertical-align: middle;\n",
       "    }\n",
       "\n",
       "    .dataframe tbody tr th {\n",
       "        vertical-align: top;\n",
       "    }\n",
       "\n",
       "    .dataframe thead th {\n",
       "        text-align: right;\n",
       "    }\n",
       "</style>\n",
       "<table border=\"1\" class=\"dataframe\">\n",
       "  <thead>\n",
       "    <tr style=\"text-align: right;\">\n",
       "      <th></th>\n",
       "      <th>chr</th>\n",
       "      <th>start</th>\n",
       "      <th>end</th>\n",
       "      <th>gene_name</th>\n",
       "      <th>strand</th>\n",
       "    </tr>\n",
       "  </thead>\n",
       "  <tbody>\n",
       "    <tr>\n",
       "      <th>0</th>\n",
       "      <td>GL000009.2</td>\n",
       "      <td>56139</td>\n",
       "      <td>58376</td>\n",
       "      <td>ENSG00000278704</td>\n",
       "      <td>-</td>\n",
       "    </tr>\n",
       "    <tr>\n",
       "      <th>1</th>\n",
       "      <td>GL000194.1</td>\n",
       "      <td>53589</td>\n",
       "      <td>115018</td>\n",
       "      <td>ENSG00000277400</td>\n",
       "      <td>-</td>\n",
       "    </tr>\n",
       "    <tr>\n",
       "      <th>2</th>\n",
       "      <td>GL000194.1</td>\n",
       "      <td>53593</td>\n",
       "      <td>115055</td>\n",
       "      <td>ENSG00000274847</td>\n",
       "      <td>-</td>\n",
       "    </tr>\n",
       "    <tr>\n",
       "      <th>3</th>\n",
       "      <td>GL000195.1</td>\n",
       "      <td>37433</td>\n",
       "      <td>37534</td>\n",
       "      <td>ENSG00000277428</td>\n",
       "      <td>-</td>\n",
       "    </tr>\n",
       "    <tr>\n",
       "      <th>4</th>\n",
       "      <td>GL000195.1</td>\n",
       "      <td>42938</td>\n",
       "      <td>49164</td>\n",
       "      <td>ENSG00000276256</td>\n",
       "      <td>-</td>\n",
       "    </tr>\n",
       "  </tbody>\n",
       "</table>\n",
       "</div>"
      ],
      "text/plain": [
       "          chr  start     end        gene_name strand\n",
       "0  GL000009.2  56139   58376  ENSG00000278704      -\n",
       "1  GL000194.1  53589  115018  ENSG00000277400      -\n",
       "2  GL000194.1  53593  115055  ENSG00000274847      -\n",
       "3  GL000195.1  37433   37534  ENSG00000277428      -\n",
       "4  GL000195.1  42938   49164  ENSG00000276256      -"
      ]
     },
     "execution_count": 5,
     "metadata": {},
     "output_type": "execute_result"
    }
   ],
   "source": [
    "# read the gtf annotation file\n",
    "gtf_anno = pd.read_csv('../reference/gencode.v32.primary_assembly.annotation_gene.bed', sep='\\t', header=None)\n",
    "gtf_anno = gtf_anno.loc[:,[0,1,2,3,5]]\n",
    "gtf_anno.columns = ['chr', 'start', 'end', 'gene_name', 'strand']\n",
    "gtf_anno['gene_name'] = gtf_anno['gene_name'].str.split('.',expand = True)[[0]]\n",
    "gtf_anno.head(5)"
   ]
  },
  {
   "cell_type": "code",
   "execution_count": 6,
   "id": "44d96474-7188-4d50-a337-2c05fca8662e",
   "metadata": {},
   "outputs": [
    {
     "data": {
      "text/plain": [
       "(23418, 5)"
      ]
     },
     "execution_count": 6,
     "metadata": {},
     "output_type": "execute_result"
    }
   ],
   "source": [
    "# remove duplicates\n",
    "gtf_anno_filter = gtf_anno[gtf_anno['gene_name'].isin(y_columns)]\n",
    "gtf_anno_filter = gtf_anno_filter[~gtf_anno_filter.duplicated(subset='gene_name')]\n",
    "gtf_anno_filter.shape"
   ]
  },
  {
   "cell_type": "code",
   "execution_count": 28,
   "id": "22e6f2d7-1439-4a5d-8371-a66eaa32b7e7",
   "metadata": {},
   "outputs": [
    {
     "data": {
      "text/html": [
       "<div>\n",
       "<style scoped>\n",
       "    .dataframe tbody tr th:only-of-type {\n",
       "        vertical-align: middle;\n",
       "    }\n",
       "\n",
       "    .dataframe tbody tr th {\n",
       "        vertical-align: top;\n",
       "    }\n",
       "\n",
       "    .dataframe thead th {\n",
       "        text-align: right;\n",
       "    }\n",
       "</style>\n",
       "<table border=\"1\" class=\"dataframe\">\n",
       "  <thead>\n",
       "    <tr style=\"text-align: right;\">\n",
       "      <th></th>\n",
       "      <th>chr</th>\n",
       "      <th>gene_name</th>\n",
       "      <th>tss</th>\n",
       "      <th>index</th>\n",
       "    </tr>\n",
       "  </thead>\n",
       "  <tbody>\n",
       "    <tr>\n",
       "      <th>0</th>\n",
       "      <td>GL000009.2</td>\n",
       "      <td>ENSG00000278704</td>\n",
       "      <td>58376</td>\n",
       "      <td>0</td>\n",
       "    </tr>\n",
       "    <tr>\n",
       "      <th>1</th>\n",
       "      <td>GL000194.1</td>\n",
       "      <td>ENSG00000277400</td>\n",
       "      <td>115018</td>\n",
       "      <td>1</td>\n",
       "    </tr>\n",
       "    <tr>\n",
       "      <th>2</th>\n",
       "      <td>GL000194.1</td>\n",
       "      <td>ENSG00000274847</td>\n",
       "      <td>115055</td>\n",
       "      <td>2</td>\n",
       "    </tr>\n",
       "    <tr>\n",
       "      <th>3</th>\n",
       "      <td>GL000195.1</td>\n",
       "      <td>ENSG00000276256</td>\n",
       "      <td>49164</td>\n",
       "      <td>3</td>\n",
       "    </tr>\n",
       "    <tr>\n",
       "      <th>4</th>\n",
       "      <td>GL000195.1</td>\n",
       "      <td>ENSG00000278198</td>\n",
       "      <td>173871</td>\n",
       "      <td>4</td>\n",
       "    </tr>\n",
       "  </tbody>\n",
       "</table>\n",
       "</div>"
      ],
      "text/plain": [
       "          chr        gene_name     tss  index\n",
       "0  GL000009.2  ENSG00000278704   58376      0\n",
       "1  GL000194.1  ENSG00000277400  115018      1\n",
       "2  GL000194.1  ENSG00000274847  115055      2\n",
       "3  GL000195.1  ENSG00000276256   49164      3\n",
       "4  GL000195.1  ENSG00000278198  173871      4"
      ]
     },
     "execution_count": 28,
     "metadata": {},
     "output_type": "execute_result"
    }
   ],
   "source": [
    "# get the transcription start site (tss) from gtf file\n",
    "gtf_anno_filter_copy = gtf_anno_filter.copy()\n",
    "gtf_anno_filter_copy['tss'] = ''\n",
    "# if a gene in the sense (+) strand, the tss is in the start, else if in the antisense (-) strand, the tss is in the end. \n",
    "gtf_anno_filter_copy.loc[gtf_anno_filter_copy['strand'] == '+','tss'] = gtf_anno_filter[gtf_anno_filter['strand'] == '+']['start']\n",
    "gtf_anno_filter_copy.loc[gtf_anno_filter_copy['strand'] == '-','tss'] = gtf_anno_filter[gtf_anno_filter['strand'] == '-']['end']\n",
    "gene_tss = gtf_anno_filter_copy[['chr', 'gene_name', 'tss']].reset_index(drop=True)\n",
    "gene_tss.tss = gene_tss.tss.astype('int')\n",
    "gene_tss['index'] = [x for x in range(gene_tss.shape[0])]\n",
    "gene_tss.head(5)"
   ]
  },
  {
   "cell_type": "code",
   "execution_count": 33,
   "id": "92eb0f6e-ee3a-497a-8d17-f740ec6d2a7f",
   "metadata": {},
   "outputs": [],
   "source": [
    "gene_tss.to_csv('../results/gene_position.txt', index=False, sep = '\\t')"
   ]
  },
  {
   "cell_type": "markdown",
   "id": "103cb6c9-c33f-4b88-b8b8-fe337a9dd35a",
   "metadata": {},
   "source": [
    "### Calculate the distance between genes and peaks "
   ]
  },
  {
   "cell_type": "code",
   "execution_count": 35,
   "id": "4402a45c-5488-4796-9a88-1e75c38802da",
   "metadata": {},
   "outputs": [],
   "source": [
    "def cal_distance(gene_info, peak_info, threshold = 80000):\n",
    "    \n",
    "    chr_list = list(set(gene_info['chr'].tolist()))\n",
    "    gene_peak_dist_lists=[]\n",
    "    for x in chr_list:\n",
    "        \n",
    "        gene_temp = gene_info[gene_info.chr == x][['index', 'tss']]\n",
    "        peak_temp = peak_info[peak_info.chr == x][['index', 'center']]\n",
    "        \n",
    "        gene_name_list = gene_temp['index'].tolist()\n",
    "        peak_name_list = peak_temp['index'].tolist()\n",
    "        \n",
    "        print(x)\n",
    "        loop_val = [gene_name_list, peak_name_list]\n",
    "        t = 0\n",
    "        for i in product(*loop_val):\n",
    "            \n",
    "            i = list(i)\n",
    "            distance = abs(gene_temp.loc[i[0],'tss'] - peak_temp.loc[i[1],'center'])\n",
    "            \n",
    "            if distance < threshold:\n",
    "                i.append(distance)\n",
    "                gene_peak_dist_lists.append(i)\n",
    "            else:\n",
    "                pass\n",
    "            t += 1 \n",
    "            if t % 10000000 == 0:\n",
    "                print(t)\n",
    "\n",
    "    return gene_peak_dist_lists"
   ]
  },
  {
   "cell_type": "code",
   "execution_count": 36,
   "id": "270fc1d8-1b2b-4cd6-8607-da8e75e767c6",
   "metadata": {},
   "outputs": [
    {
     "name": "stdout",
     "output_type": "stream",
     "text": [
      "KI270721.1\n",
      "chr9\n",
      "chr21\n",
      "chr10\n",
      "chr3\n",
      "10000000\n",
      "20000000\n",
      "GL000219.1\n",
      "chr18\n",
      "chr16\n",
      "chr20\n",
      "chr7\n",
      "10000000\n",
      "chrY\n",
      "chr6\n",
      "10000000\n",
      "chr8\n",
      "GL000218.1\n",
      "chr11\n",
      "10000000\n",
      "chr12\n",
      "10000000\n",
      "GL000009.2\n",
      "KI270711.1\n",
      "chr1\n",
      "10000000\n",
      "20000000\n",
      "30000000\n",
      "40000000\n",
      "GL000194.1\n",
      "GL000205.2\n",
      "chrX\n",
      "chr14\n",
      "chr15\n",
      "KI270734.1\n",
      "chr13\n",
      "chr4\n",
      "10000000\n",
      "GL000195.1\n",
      "chr2\n",
      "10000000\n",
      "20000000\n",
      "30000000\n",
      "chr5\n",
      "10000000\n",
      "chr19\n",
      "10000000\n",
      "chrM\n",
      "chr17\n",
      "10000000\n",
      "chr22\n"
     ]
    }
   ],
   "source": [
    "gene_peak_dist_df = cal_distance(gene_tss, peak_region)"
   ]
  },
  {
   "cell_type": "code",
   "execution_count": 58,
   "id": "1407e46c-4b17-43f4-8418-079cb2da1e06",
   "metadata": {},
   "outputs": [
    {
     "data": {
      "text/plain": [
       "[[9, 50, 50],\n",
       " [9, 51, 6234],\n",
       " [21808, 213385, 30381],\n",
       " [21808, 213535, 32183],\n",
       " [21808, 213749, 62541]]"
      ]
     },
     "execution_count": 58,
     "metadata": {},
     "output_type": "execute_result"
    }
   ],
   "source": [
    "gene_peak_dist_df[0:5]"
   ]
  },
  {
   "cell_type": "code",
   "execution_count": 53,
   "id": "f218d122-8b38-4f26-9b20-99f6d0527d81",
   "metadata": {},
   "outputs": [],
   "source": [
    "gene_index = []\n",
    "peak_index = []\n",
    "distance = []\n",
    "for gene_peak_distances in gene_peak_dist_df:\n",
    "    gene_index.append(gene_peak_distances[0])\n",
    "    peak_index.append(gene_peak_distances[1])\n",
    "    distance.append(gene_peak_distances[2])"
   ]
  },
  {
   "cell_type": "code",
   "execution_count": 54,
   "id": "4b4a3305-5f99-4b35-8cc0-76c57367e67a",
   "metadata": {},
   "outputs": [],
   "source": [
    "gene_peak_dist_df_s = pd.DataFrame({'gene_index': gene_index,\n",
    "                                   'peak_index': peak_index,\n",
    "                                   'distance' : distance})"
   ]
  },
  {
   "cell_type": "code",
   "execution_count": 59,
   "id": "1a843adc-8d17-4682-86a8-75506dddff3a",
   "metadata": {},
   "outputs": [],
   "source": [
    "gene_peak_dist_df_s.to_csv('../results/gene_peak_dist_within80K.txt', sep='\\t', index=False, header=True)"
   ]
  },
  {
   "cell_type": "code",
   "execution_count": null,
   "id": "457a9c60-fe28-4d79-b6f4-0196e4e29c38",
   "metadata": {},
   "outputs": [],
   "source": []
  }
 ],
 "metadata": {
  "kernelspec": {
   "display_name": "kaggle-bio",
   "language": "python",
   "name": "kaggle-bio"
  },
  "language_info": {
   "codemirror_mode": {
    "name": "ipython",
    "version": 3
   },
   "file_extension": ".py",
   "mimetype": "text/x-python",
   "name": "python",
   "nbconvert_exporter": "python",
   "pygments_lexer": "ipython3",
   "version": "3.7.13"
  }
 },
 "nbformat": 4,
 "nbformat_minor": 5
}
