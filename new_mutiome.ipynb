{
 "cells": [
  {
   "cell_type": "code",
   "execution_count": 1,
   "id": "89a4386d-4dc8-408f-8530-3472bc174bb9",
   "metadata": {},
   "outputs": [],
   "source": [
    "import os\n",
    "import lightgbm as lgb\n",
    "\n",
    "import pandas as pd\n",
    "import matplotlib.pyplot as plt\n",
    "import scanpy as sc\n",
    "import seaborn as sns\n",
    "import numpy as np\n",
    "from colorama import Fore, Back, Style\n",
    "from matplotlib.ticker import MaxNLocator\n",
    "from sklearn.base import BaseEstimator, TransformerMixin\n",
    "from sklearn.model_selection import KFold\n",
    "from sklearn.preprocessing import StandardScaler, scale\n",
    "from sklearn.decomposition import PCA,TruncatedSVD\n",
    "from sklearn.dummy import DummyRegressor\n",
    "from sklearn.pipeline import make_pipeline, Pipeline\n",
    "from sklearn.linear_model import Ridge\n",
    "from sklearn.linear_model import Lasso\n",
    "from sklearn.multioutput import MultiOutputRegressor\n",
    "from sklearn.compose import TransformedTargetRegressor\n",
    "from sklearn.metrics import mean_squared_error\n",
    "import os, gc, pickle"
   ]
  },
  {
   "cell_type": "code",
   "execution_count": 2,
   "id": "8432633d-32a1-4cef-ac0c-4c4b50641b41",
   "metadata": {},
   "outputs": [],
   "source": [
    "DATA_DIR = \"/Users/xzeng/Desktop/kaggle/open-problems-multimodal\"\n",
    "\n",
    "FP_CELL_METADATA = os.path.join(DATA_DIR,\"metadata.csv\")\n",
    "\n",
    "FP_MULTIOME_TRAIN_INPUTS = os.path.join(DATA_DIR,\"train_multi_inputs.h5\")\n",
    "FP_MULTIOME_TRAIN_TARGETS = os.path.join(DATA_DIR,\"train_multi_targets.h5\")\n",
    "FP_MULTIOME_TEST_INPUTS = os.path.join(DATA_DIR,\"test_multi_inputs.h5\")\n",
    "\n",
    "FP_SUBMISSION = os.path.join(DATA_DIR,\"sample_submission.csv\")\n",
    "FP_EVALUATION_IDS = os.path.join(DATA_DIR,\"evaluation_ids.csv\")"
   ]
  },
  {
   "cell_type": "code",
   "execution_count": 100,
   "id": "e575d587-48a9-4f36-86fc-e50d36fe80a5",
   "metadata": {},
   "outputs": [],
   "source": [
    "def correlation_score(y_true, y_pred):\n",
    "    \"\"\"Scores the predictions according to the competition rules. \n",
    "    \n",
    "    It is assumed that the predictions are not constant.\n",
    "    \n",
    "    Returns the average of each sample's Pearson correlation coefficient\"\"\"\n",
    "    if type(y_true) == pd.DataFrame: y_true = y_true.values\n",
    "    if type(y_pred) == pd.DataFrame: y_pred = y_pred.values\n",
    "    if y_true.shape != y_pred.shape: raise ValueError(\"Shapes are different.\")\n",
    "\n",
    "    corr = np.corrcoef(y_true, y_pred)[1,0]\n",
    "    return corr"
   ]
  },
  {
   "cell_type": "code",
   "execution_count": 5,
   "id": "fa5a36e4-902a-4038-9b7f-f667e628dd13",
   "metadata": {},
   "outputs": [
    {
     "data": {
      "text/plain": [
       "(161877, 5)"
      ]
     },
     "execution_count": 5,
     "metadata": {},
     "output_type": "execute_result"
    }
   ],
   "source": [
    "df_cell = pd.read_csv(FP_CELL_METADATA)\n",
    "df_cell_multi = df_cell[df_cell.technology==\"multiome\"]\n",
    "df_cell_multi.shape"
   ]
  },
  {
   "cell_type": "code",
   "execution_count": null,
   "id": "9fb025c5-22d2-42e1-b62b-e40f8abab6ec",
   "metadata": {},
   "outputs": [],
   "source": [
    "def selectHighlyVariableGenes(multi_train_y):\n",
    "    adata = sc.AnnData(multi_train_y)\n",
    "    sc.pp.highly_variable_genes(adata)\n",
    "    hvg = adata.var[adata.var['highly_variable'] == True].index.to_list()\n",
    "    \n",
    "    return hvg\n",
    "\n",
    "def selectExpressionMatrixByGeneName(multi_train_y,genes):\n",
    "    multi_train_y_select = multi_train_y[hvg_test[0]]"
   ]
  },
  {
   "cell_type": "code",
   "execution_count": 61,
   "id": "7f3f9838-7516-4ee8-a8df-25c4bdacb5df",
   "metadata": {},
   "outputs": [],
   "source": [
    "multi_train_x = pd.read_hdf(FP_MULTIOME_TRAIN_INPUTS,start=0, stop=15000)"
   ]
  },
  {
   "cell_type": "code",
   "execution_count": 58,
   "id": "43eba4cd-9abc-4c24-91c4-2b845c1c90d9",
   "metadata": {},
   "outputs": [],
   "source": [
    "hvg_test = hvg[0:10]"
   ]
  },
  {
   "cell_type": "code",
   "execution_count": 59,
   "id": "bb84507b-1e32-487a-9001-839b48e4b130",
   "metadata": {},
   "outputs": [],
   "source": [
    "gene_peak_dist = pd.read_csv('../results/gene_peak_dist_within200K.txt', sep='\\t')"
   ]
  },
  {
   "cell_type": "code",
   "execution_count": 64,
   "id": "9737d950-beee-4b53-b20b-c221c97c7890",
   "metadata": {},
   "outputs": [],
   "source": [
    "peak_selected = gene_peak_dist[gene_peak_dist['gene_name'] == hvg_test[0]].peak_name.tolist()\n",
    "multi_train_x_select = multi_train_x[peak_selected].values"
   ]
  },
  {
   "cell_type": "code",
   "execution_count": 66,
   "id": "c9aaf639-74ba-45c7-86d8-0d599ddf8f69",
   "metadata": {},
   "outputs": [
    {
     "data": {
      "text/plain": [
       "(15000, 35)"
      ]
     },
     "execution_count": 87,
     "metadata": {},
     "output_type": "execute_result"
    }
   ],
   "source": [
    "multi_train_x_select.shape"
   ]
  },
  {
   "cell_type": "code",
   "execution_count": 94,
   "id": "fd281400-5b7b-4f33-ba81-fc6872b180ee",
   "metadata": {},
   "outputs": [
    {
     "data": {
      "text/plain": [
       "(15000,)"
      ]
     },
     "execution_count": 94,
     "metadata": {},
     "output_type": "execute_result"
    }
   ],
   "source": [
    "multi_train_y_select = multi_train_y[hvg_test[0]]\n",
    "multi_train_y_select.shape"
   ]
  },
  {
   "cell_type": "code",
   "execution_count": 104,
   "id": "088a625e-6843-4a15-8900-c0166e47718a",
   "metadata": {},
   "outputs": [
    {
     "name": "stdout",
     "output_type": "stream",
     "text": [
      "Fold 0: mse = 0.67023, corr =  -0.052\n",
      "Fold 1: mse = 0.70060, corr =  -0.008\n",
      "Fold 2: mse = 0.88981, corr =  0.004\n",
      "Fold 3: mse = 0.77580, corr =  -0.023\n",
      "Fold 4: mse = 0.99078, corr =  -0.020\n",
      "Fold 5: mse = 0.71676, corr =  0.000\n",
      "Fold 6: mse = 0.74280, corr =  -0.024\n",
      "Fold 7: mse = 0.74884, corr =  0.006\n",
      "Fold 8: mse = 0.78747, corr =  0.018\n",
      "Fold 9: mse = 0.78049, corr =  0.015\n",
      "\u001b[32m\u001b[1m(15000, 35) Average  mse = 0.78036; corr = -0.008\u001b[0m\n",
      "CPU times: user 59.9 s, sys: 1.1 s, total: 1min 1s\n",
      "Wall time: 5.96 s\n"
     ]
    }
   ],
   "source": [
    "%%time\n",
    "# Cross-validation\n",
    "\n",
    "kf = KFold(n_splits=10, shuffle=True, random_state=1)\n",
    "score_list = []\n",
    "for fold, (idx_tr, idx_va) in enumerate(kf.split(multi_train_x_select)):\n",
    "    model = None\n",
    "    gc.collect()\n",
    "    X_tr = multi_train_x_select[idx_tr] # creates a copy, https://numpy.org/doc/stable/user/basics.copies.html\n",
    "    y_tr = multi_train_y_select[idx_tr]\n",
    "    del idx_tr\n",
    "\n",
    "    model = Ridge(copy_X=False,max_iter=15000)\n",
    "    model.fit(X_tr, y_tr)\n",
    "    del X_tr, y_tr\n",
    "    gc.collect()\n",
    "\n",
    "    # We validate the model\n",
    "    X_va = multi_train_x_select[idx_va]\n",
    "    y_va = multi_train_y_select[idx_va]\n",
    "    del idx_va\n",
    "    y_va_pred = model.predict(X_va)\n",
    "    mse = mean_squared_error(y_va, y_va_pred)\n",
    "    \n",
    "    corrscore = correlation_score(y_va, y_va_pred)\n",
    "    del X_va, y_va\n",
    "\n",
    "    print(f\"Fold {fold}: mse = {mse:.5f}, corr =  {corrscore:.3f}\")\n",
    "    score_list.append((mse, corrscore))\n",
    "\n",
    "# Show overall score\n",
    "result_df = pd.DataFrame(score_list, columns=['mse', 'corrscore'])\n",
    "print(f\"{Fore.GREEN}{Style.BRIGHT}{multi_train_x_select.shape} Average  mse = {result_df.mse.mean():.5f}; corr = {result_df.corrscore.mean():.3f}{Style.RESET_ALL}\")"
   ]
  },
  {
   "cell_type": "code",
   "execution_count": null,
   "id": "c7a92dc2-8d90-4adb-8e69-baa5d2924168",
   "metadata": {},
   "outputs": [],
   "source": []
  }
 ],
 "metadata": {
  "kernelspec": {
   "display_name": "kaggle-bio",
   "language": "python",
   "name": "kaggle-bio"
  },
  "language_info": {
   "codemirror_mode": {
    "name": "ipython",
    "version": 3
   },
   "file_extension": ".py",
   "mimetype": "text/x-python",
   "name": "python",
   "nbconvert_exporter": "python",
   "pygments_lexer": "ipython3",
   "version": "3.7.13"
  }
 },
 "nbformat": 4,
 "nbformat_minor": 5
}
