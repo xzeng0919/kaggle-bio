{
 "cells": [
  {
   "cell_type": "code",
   "execution_count": 9,
   "id": "f6f793ab-88bb-45e7-91ef-47842b7a3642",
   "metadata": {},
   "outputs": [],
   "source": [
    "import numpy as np\n",
    "import pandas as pd\n",
    "import os\n",
    "import matplotlib.pyplot as plt"
   ]
  },
  {
   "cell_type": "markdown",
   "id": "0a7c7e06-c202-49a3-9e14-a1650807d7ac",
   "metadata": {},
   "source": [
    "### Get chromatin regions from multiome data"
   ]
  },
  {
   "cell_type": "code",
   "execution_count": 10,
   "id": "068ade39-c682-4491-b41f-4254a0245457",
   "metadata": {},
   "outputs": [],
   "source": [
    "DATA_DIR = \"/Users/xzeng/Desktop/kaggle/open-problems-multimodal\"\n",
    "FP_MULTIOME_TRAIN_INPUTS = os.path.join(DATA_DIR,\"train_multi_inputs.h5\")\n",
    "\n",
    "multi_train_x = pd.read_hdf(FP_MULTIOME_TRAIN_INPUTS, start=0, stop=10)\n",
    "column_names = multi_train_x.columns.to_series()\n",
    "peak_regions = column_names.str.split(r':|-',expand=True)"
   ]
  },
  {
   "cell_type": "code",
   "execution_count": 11,
   "id": "87b05945-2cfb-4404-a9ed-c612af9bc49e",
   "metadata": {},
   "outputs": [
    {
     "data": {
      "text/html": [
       "<div>\n",
       "<style scoped>\n",
       "    .dataframe tbody tr th:only-of-type {\n",
       "        vertical-align: middle;\n",
       "    }\n",
       "\n",
       "    .dataframe tbody tr th {\n",
       "        vertical-align: top;\n",
       "    }\n",
       "\n",
       "    .dataframe thead th {\n",
       "        text-align: right;\n",
       "    }\n",
       "</style>\n",
       "<table border=\"1\" class=\"dataframe\">\n",
       "  <thead>\n",
       "    <tr style=\"text-align: right;\">\n",
       "      <th></th>\n",
       "      <th>0</th>\n",
       "      <th>1</th>\n",
       "      <th>2</th>\n",
       "    </tr>\n",
       "    <tr>\n",
       "      <th>gene_id</th>\n",
       "      <th></th>\n",
       "      <th></th>\n",
       "      <th></th>\n",
       "    </tr>\n",
       "  </thead>\n",
       "  <tbody>\n",
       "    <tr>\n",
       "      <th>GL000194.1:114519-115365</th>\n",
       "      <td>GL000194.1</td>\n",
       "      <td>114519</td>\n",
       "      <td>115365</td>\n",
       "    </tr>\n",
       "    <tr>\n",
       "      <th>GL000194.1:55758-56597</th>\n",
       "      <td>GL000194.1</td>\n",
       "      <td>55758</td>\n",
       "      <td>56597</td>\n",
       "    </tr>\n",
       "    <tr>\n",
       "      <th>GL000194.1:58217-58957</th>\n",
       "      <td>GL000194.1</td>\n",
       "      <td>58217</td>\n",
       "      <td>58957</td>\n",
       "    </tr>\n",
       "    <tr>\n",
       "      <th>GL000194.1:59535-60431</th>\n",
       "      <td>GL000194.1</td>\n",
       "      <td>59535</td>\n",
       "      <td>60431</td>\n",
       "    </tr>\n",
       "    <tr>\n",
       "      <th>GL000195.1:119766-120427</th>\n",
       "      <td>GL000195.1</td>\n",
       "      <td>119766</td>\n",
       "      <td>120427</td>\n",
       "    </tr>\n",
       "  </tbody>\n",
       "</table>\n",
       "</div>"
      ],
      "text/plain": [
       "                                   0       1       2\n",
       "gene_id                                             \n",
       "GL000194.1:114519-115365  GL000194.1  114519  115365\n",
       "GL000194.1:55758-56597    GL000194.1   55758   56597\n",
       "GL000194.1:58217-58957    GL000194.1   58217   58957\n",
       "GL000194.1:59535-60431    GL000194.1   59535   60431\n",
       "GL000195.1:119766-120427  GL000195.1  119766  120427"
      ]
     },
     "execution_count": 11,
     "metadata": {},
     "output_type": "execute_result"
    }
   ],
   "source": [
    "peak_regions = peak_regions.astype({1: 'int32',\n",
    "                                    2: 'int32'},\n",
    "                                    copy=False)\n",
    "peak_regions.head(5)"
   ]
  },
  {
   "cell_type": "code",
   "execution_count": 13,
   "id": "7060222a-8b24-4231-bfde-a9a88d4b3d1f",
   "metadata": {},
   "outputs": [],
   "source": [
    "# remove 'chr' to match the chromsome\n",
    "peak_regions = peak_regions.replace('chr', '', regex=True)"
   ]
  },
  {
   "cell_type": "markdown",
   "id": "25785363-3b53-44c4-bfc4-a1fcfba47026",
   "metadata": {},
   "source": [
    "These three columns are chromosome name, start site and end site respectively."
   ]
  },
  {
   "cell_type": "code",
   "execution_count": 14,
   "id": "c2532c70-298c-461a-983e-a9f4474c8bb0",
   "metadata": {},
   "outputs": [],
   "source": [
    "# save the coordinate information to bed format for extracting DNA sequences\n",
    "peak_regions.to_csv('../results/peak_regions.bed',sep='\\t', index=False, header=False)"
   ]
  },
  {
   "cell_type": "markdown",
   "id": "da8128e0-5052-44b2-aabb-790070ea61f7",
   "metadata": {},
   "source": [
    "Statistical analysis of peaks"
   ]
  },
  {
   "cell_type": "code",
   "execution_count": 46,
   "id": "6ca5c0a0-7fb9-482a-836b-7462ff7ae064",
   "metadata": {},
   "outputs": [],
   "source": [
    "peak_regions['length'] = peak_regions[2] - peak_regions[1]"
   ]
  },
  {
   "cell_type": "code",
   "execution_count": 53,
   "id": "cfb2f558-60ed-469e-b073-6fc4bbb9b046",
   "metadata": {},
   "outputs": [
    {
     "data": {
      "text/plain": [
       "<function matplotlib.pyplot.show(close=None, block=None)>"
      ]
     },
     "execution_count": 53,
     "metadata": {},
     "output_type": "execute_result"
    },
    {
     "data": {
      "image/png": "[encoded data removed]",
      "text/plain": [
       "<Figure size 432x288 with 1 Axes>"
      ]
     },
     "metadata": {
      "needs_background": "light"
     },
     "output_type": "display_data"
    }
   ],
   "source": [
    "plt.hist(peak_regions.length, \n",
    "         bins=100)\n",
    "plt.xlabel('peak length')\n",
    "plt.xlabel('frequency')\n",
    "plt.show"
   ]
  },
  {
   "cell_type": "code",
   "execution_count": 58,
   "id": "9deee269-0f7b-48a0-b6be-469bca3c4f16",
   "metadata": {},
   "outputs": [
    {
     "data": {
      "text/plain": [
       "(45, 4)"
      ]
     },
     "execution_count": 58,
     "metadata": {},
     "output_type": "execute_result"
    }
   ],
   "source": [
    "peak_regions[peak_regions['length'] > 1000].shape"
   ]
  },
  {
   "cell_type": "markdown",
   "id": "c58f423f-e62f-4681-bf48-9a34fb4042cb",
   "metadata": {},
   "source": [
    "### Get DNA sequences from chromtain regions."
   ]
  },
  {
   "cell_type": "markdown",
   "id": "131967f1-fadd-41bf-8a9e-e4069789ddb7",
   "metadata": {},
   "source": [
    "* According to https://www.kaggle.com/competitions/open-problems-multimodal/data, the reference genome for this dataset is GRCh38(release on July 7, 2020). \n",
    "* The fasta and gtf file of reference genome were downloaded by the url below     \n",
    "http://ftp.ensembl.org/pub/release-98/fasta/homo_sapiens/dna/Homo_sapiens.GRCh38.dna.primary_assembly.fa.gz\n",
    "http://ftp.ebi.ac.uk/pub/databases/gencode/Gencode_human/release_32/gencode.v32.primary_assembly.annotation.gtf.gz \n",
    "* The index of reference genome was built by *samtools*\n",
    "* The sequences of chromatin regions were extract from reference genome by *bedtools*"
   ]
  },
  {
   "cell_type": "code",
   "execution_count": 6,
   "id": "731a4ae9-5171-497b-a650-26c3de5b2274",
   "metadata": {},
   "outputs": [
    {
     "name": "stdout",
     "output_type": "stream",
     "text": [
      "\n",
      "Tool:    bedtools getfasta (aka fastaFromBed)\n",
      "Version: v2.30.0\n",
      "Summary: Extract DNA sequences from a fasta file based on feature coordinates.\n",
      "\n",
      "Usage:   bedtools getfasta [OPTIONS] -fi <fasta> -bed <bed/gff/vcf>\n",
      "\n",
      "Options: \n",
      "\t-fi\t\tInput FASTA file\n",
      "\t-fo\t\tOutput file (opt., default is STDOUT\n",
      "\t-bed\t\tBED/GFF/VCF file of ranges to extract from -fi\n",
      "\t-name\t\tUse the name field and coordinates for the FASTA header\n",
      "\t-name+\t\t(deprecated) Use the name field and coordinates for the FASTA header\n",
      "\t-nameOnly\tUse the name field for the FASTA header\n",
      "\t-split\t\tGiven BED12 fmt., extract and concatenate the sequences\n",
      "\t\t\tfrom the BED \"blocks\" (e.g., exons)\n",
      "\t-tab\t\tWrite output in TAB delimited format.\n",
      "\t-bedOut\t\tReport extract sequences in a tab-delimited BED format instead of in FASTA format.\n",
      "\t\t\t- Default is FASTA format.\n",
      "\t-s\t\tForce strandedness. If the feature occupies the antisense,\n",
      "\t\t\tstrand, the sequence will be reverse complemented.\n",
      "\t\t\t- By default, strand information is ignored.\n",
      "\t-fullHeader\tUse full fasta header.\n",
      "\t\t\t- By default, only the word before the first space or tab \n",
      "\t\t\tis used.\n",
      "\t-rna\tThe FASTA is RNA not DNA. Reverse complementation handled accordingly.\n",
      "\n"
     ]
    }
   ],
   "source": [
    "!bedtools getfasta"
   ]
  },
  {
   "cell_type": "code",
   "execution_count": 15,
   "id": "85cb2e88-e71a-42e9-adf1-6e8c6ee39518",
   "metadata": {},
   "outputs": [],
   "source": [
    "!bedtools getfasta -fi /Users/xzeng/Desktop/kaggle/reference/Homo_sapiens.GRCh38.dna.primary_assembly.fa \\\n",
    "                   -bed /Users/xzeng/Desktop/kaggle/results/peak_regions.bed \\\n",
    "                   -fo /Users/xzeng/Desktop/kaggle/results/peak_regions.fa"
   ]
  },
  {
   "cell_type": "code",
   "execution_count": null,
   "id": "889480dc-8807-4fbd-b2cc-7085935e59f1",
   "metadata": {},
   "outputs": [],
   "source": [
    "# Run word2vec to transfer the DNA sequences into vectors\n",
    "#It might takes time!\n",
    "!python dna2vec.py -i ../results/peak_regions.fa -k 6"
   ]
  }
 ],
 "metadata": {
  "kernelspec": {
   "display_name": "kaggle-bio",
   "language": "python",
   "name": "kaggle-bio"
  },
  "language_info": {
   "codemirror_mode": {
    "name": "ipython",
    "version": 3
   },
   "file_extension": ".py",
   "mimetype": "text/x-python",
   "name": "python",
   "nbconvert_exporter": "python",
   "pygments_lexer": "ipython3",
   "version": "3.7.13"
  }
 },
 "nbformat": 4,
 "nbformat_minor": 5
}
